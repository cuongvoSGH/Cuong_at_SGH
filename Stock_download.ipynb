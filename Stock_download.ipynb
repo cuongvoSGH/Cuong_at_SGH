{
 "cells": [
  {
   "cell_type": "code",
   "execution_count": 1,
   "metadata": {},
   "outputs": [],
   "source": [
    "import os\n",
    "from urllib.request import urlopen\n",
    "\n",
    "# Date from 31 Dec 2018 to 31 Dec 2023 - Interval monthly\n",
    "\n",
    "stock_list = ['BKNG', 'EXPE', '0386.HK', '0857.HK', 'VOW.DE', '7203.T', 'NESN.SW', 'PEP', 'PG', 'UL']\n",
    "\n",
    "for stock in stock_list:\n",
    "    url = \"\"\"https://query1.finance.yahoo.com/v7/finance/download/\"\"\"+ stock \\\n",
    "            +\"\"\"?period1=1546300800&period2=1704067200\"\"\"\\\n",
    "            +\"\"\"&interval=1d&events=history&includeAdjustedClose=true\"\"\"\n",
    "    local_path = os.path.join('stock_list_TSA', stock + '.csv')\n",
    "    with urlopen(url) as image, open(local_path, 'wb') as f:\n",
    "        f.write(image.read())\n",
    "\n",
    "\n",
    "# https://query1.finance.yahoo.com/v7/finance/download/0386.HK?period1=1546300800&period2=1704067200&interval=1mo&events=history&includeAdjustedClose=true"
   ]
  }
 ],
 "metadata": {
  "kernelspec": {
   "display_name": "Python 3",
   "language": "python",
   "name": "python3"
  },
  "language_info": {
   "codemirror_mode": {
    "name": "ipython",
    "version": 3
   },
   "file_extension": ".py",
   "mimetype": "text/x-python",
   "name": "python",
   "nbconvert_exporter": "python",
   "pygments_lexer": "ipython3",
   "version": "3.11.7"
  }
 },
 "nbformat": 4,
 "nbformat_minor": 2
}
