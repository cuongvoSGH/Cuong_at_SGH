{
 "cells": [
  {
   "cell_type": "code",
   "execution_count": 1,
   "metadata": {},
   "outputs": [
    {
     "name": "stdout",
     "output_type": "stream",
     "text": [
      "2\n",
      "35\n"
     ]
    }
   ],
   "source": [
    "a = 1\n",
    "b = 1\n",
    "print(a+b)\n",
    "\n",
    "c = 15\n",
    "d = 20\n",
    "print(c+d)"
   ]
  },
  {
   "cell_type": "code",
   "execution_count": 5,
   "metadata": {},
   "outputs": [
    {
     "name": "stdout",
     "output_type": "stream",
     "text": [
      "4097\n",
      "<class 'float'>\n",
      "3.3333333333333335\n",
      "1\n"
     ]
    }
   ],
   "source": [
    "ab = 0x1001\n",
    "\n",
    "# 0x: hexa\n",
    "# 0b: binary\n",
    "# 0o: octa\n",
    "\n",
    "print(ab)\n",
    "\n",
    "a = 10\n",
    "b = 3\n",
    "c= a/3\n",
    "\n",
    "print(type(c))\n",
    "print(c)\n",
    "\n",
    "d = a % b\n",
    "print(d)"
   ]
  },
  {
   "cell_type": "code",
   "execution_count": 20,
   "metadata": {},
   "outputs": [
    {
     "name": "stdout",
     "output_type": "stream",
     "text": [
      "abcdefghijkl\n",
      "a\n",
      "12\n",
      "abc\n",
      "jkl\n",
      "I can't\n",
      "I can't\n",
      "12345\tlalkgjasdlmg\t15098234609\tklajgklasdjlgkja\n",
      "15098234609\n",
      "['1241509', 'akldjglkajdglk', '150928091846']\n",
      "adgadgj     adkljgalkjg\n",
      "adgadgj adkljgalkjg\n"
     ]
    }
   ],
   "source": [
    "st = 'abcdefghijkl'\n",
    "print(st)\n",
    "print(st[0])\n",
    "print(len(st))\n",
    "print(st[:3]) # First 3 char\n",
    "print(st[-3:]) # Last 3 char from the end\n",
    "\n",
    "st1 =\"\"\"I can't\"\"\"\n",
    "print(st1)\n",
    "\n",
    "st2 = 'I can\\'t'\n",
    "print(st2)\n",
    "\n",
    "# \\n <=> Enter\n",
    "# \\t <=> Tab\n",
    "\n",
    "st3 = '12345\\tlalkgjasdlmg\\t15098234609\\tklajgklasdjlgkja'\n",
    "print(st3)\n",
    "st3a = st3.split('\\t')\n",
    "print(st3a[2])\n",
    "\n",
    "st4 = '1241509\\nakldjglkajdglk\\n150928091846'\n",
    "st4a = st4.splitlines()\n",
    "print(st4a)\n",
    "\n",
    "# index and find have difference, index if can not find will return error, find return -1\n",
    "\n",
    "st5 = '                adgadgj     adkljgalkjg        '\n",
    "print(st5.strip())\n",
    "print(st5.strip().replace('  ',''))\n",
    "\n",
    "# xor operator <=> ^ X xor Y <=> X ^ Y\n",
    "\n"
   ]
  },
  {
   "cell_type": "code",
   "execution_count": 26,
   "metadata": {},
   "outputs": [
    {
     "name": "stdout",
     "output_type": "stream",
     "text": [
      "i = 1\n",
      "i = 2\n",
      "i = 3\n",
      "It's four\n",
      "i = 4\n",
      "i = 5\n",
      "i = 6\n",
      "i = 7\n",
      "i = 8\n",
      "i = 9\n"
     ]
    }
   ],
   "source": [
    "# for i in reversed(range(-5, 10, 2)):\n",
    "#     print(f'i = {i}')\n",
    "\n",
    "# for i in 'abcdefghi':\n",
    "#     print(f'i = {i}')\n",
    "\n",
    "# i = 1\n",
    "# while i < 10:\n",
    "#     print(f'i = {i}')\n",
    "#     i += 1\n",
    "\n",
    "i = 1\n",
    "while i < 10 :\n",
    "    if i == 4:\n",
    "        print(f'It\\'s four')\n",
    "    print(f'i = {i}')\n",
    "    i +=1"
   ]
  },
  {
   "cell_type": "code",
   "execution_count": 4,
   "metadata": {},
   "outputs": [
    {
     "name": "stdout",
     "output_type": "stream",
     "text": [
      "13.0\n"
     ]
    }
   ],
   "source": [
    "x = float(input())\n",
    "y = float(input())\n",
    "z = float(input())\n",
    "\n",
    "sum3 = x + y + z\n",
    "\n",
    "print(sum3)"
   ]
  },
  {
   "cell_type": "code",
   "execution_count": null,
   "metadata": {},
   "outputs": [],
   "source": [
    "sum15 = 0\n",
    "\n",
    "for i in range(0,15):\n",
    "    x = float(input())\n",
    "    sum15 += x\n",
    "\n",
    "print(sum15)"
   ]
  },
  {
   "cell_type": "code",
   "execution_count": null,
   "metadata": {},
   "outputs": [],
   "source": [
    "n = int(input('Enter the number: '))\n",
    "\n",
    "sum_n = 0\n",
    "\n",
    "for i in range(0,n):\n",
    "    x = int(input())\n",
    "    sum_n += x\n",
    "\n",
    "print(sum_n)"
   ]
  },
  {
   "cell_type": "code",
   "execution_count": 1,
   "metadata": {},
   "outputs": [
    {
     "name": "stdout",
     "output_type": "stream",
     "text": [
      "120\n"
     ]
    }
   ],
   "source": [
    "n = int(input('Enter the number: '))\n",
    "\n",
    "product_n = 1\n",
    "\n",
    "for i in range(0,n):\n",
    "    x = int(input())\n",
    "    product_n *= x\n",
    "\n",
    "print(product_n)"
   ]
  },
  {
   "cell_type": "code",
   "execution_count": 11,
   "metadata": {},
   "outputs": [
    {
     "name": "stdout",
     "output_type": "stream",
     "text": [
      "3\n",
      "1 2 3 \n",
      "\n",
      "3\n"
     ]
    }
   ],
   "source": [
    "n = int(input())\n",
    "a = []\n",
    "\n",
    "for i in range(0,n):\n",
    "    x = int(input())\n",
    "    a.append(x)\n",
    "\n",
    "max_Items = a[0]\n",
    "for i in range(0,n):\n",
    "    if a[i] >= max_Items:\n",
    "        max_Items = a[i]\n",
    "\n",
    "print(max_Items)\n"
   ]
  },
  {
   "cell_type": "code",
   "execution_count": 27,
   "metadata": {},
   "outputs": [
    {
     "name": "stdout",
     "output_type": "stream",
     "text": [
      "4 25 49 81 121 169 324 \n",
      "773\n"
     ]
    }
   ],
   "source": [
    "num_list = [2,5,7,9,11,13,18]\n",
    "\n",
    "for i in range(len(num_list)):\n",
    "    print(str(num_list[i] * num_list[i]), end = ' ')\n",
    "\n",
    "sum_power2 = 0\n",
    "for i in range(len(num_list)):\n",
    "    sum_power2 += num_list[i] * num_list[i]\n",
    "\n",
    "print(f\"\\n{sum_power2}\")"
   ]
  },
  {
   "cell_type": "code",
   "execution_count": 22,
   "metadata": {},
   "outputs": [
    {
     "name": "stdout",
     "output_type": "stream",
     "text": [
      "8 \n",
      "\n",
      "25\n"
     ]
    }
   ],
   "source": [
    "email = 'cv131116@student.sgh.waw.@pl'\n",
    "\n",
    "print(email.find('@'),'\\n')\n",
    "print(email.rfind('@'))\n"
   ]
  }
 ],
 "metadata": {
  "kernelspec": {
   "display_name": "Python 3",
   "language": "python",
   "name": "python3"
  },
  "language_info": {
   "codemirror_mode": {
    "name": "ipython",
    "version": 3
   },
   "file_extension": ".py",
   "mimetype": "text/x-python",
   "name": "python",
   "nbconvert_exporter": "python",
   "pygments_lexer": "ipython3",
   "version": "3.11.5"
  }
 },
 "nbformat": 4,
 "nbformat_minor": 2
}
