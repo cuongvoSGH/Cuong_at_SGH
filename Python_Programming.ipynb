{
 "cells": [
  {
   "cell_type": "code",
   "execution_count": 1,
   "metadata": {},
   "outputs": [
    {
     "name": "stdout",
     "output_type": "stream",
     "text": [
      "2\n",
      "35\n"
     ]
    }
   ],
   "source": [
    "a = 1\n",
    "b = 1\n",
    "print(a+b)\n",
    "\n",
    "c = 15\n",
    "d = 20\n",
    "print(c+d)"
   ]
  },
  {
   "cell_type": "code",
   "execution_count": 5,
   "metadata": {},
   "outputs": [
    {
     "name": "stdout",
     "output_type": "stream",
     "text": [
      "4097\n",
      "<class 'float'>\n",
      "3.3333333333333335\n",
      "1\n"
     ]
    }
   ],
   "source": [
    "ab = 0x1001\n",
    "\n",
    "# 0x: hexa\n",
    "# 0b: binary\n",
    "# 0o: octa\n",
    "\n",
    "print(ab)\n",
    "\n",
    "a = 10\n",
    "b = 3\n",
    "c= a/3\n",
    "\n",
    "print(type(c))\n",
    "print(c)\n",
    "\n",
    "d = a % b\n",
    "print(d)"
   ]
  },
  {
   "cell_type": "code",
   "execution_count": 20,
   "metadata": {},
   "outputs": [
    {
     "name": "stdout",
     "output_type": "stream",
     "text": [
      "abcdefghijkl\n",
      "a\n",
      "12\n",
      "abc\n",
      "jkl\n",
      "I can't\n",
      "I can't\n",
      "12345\tlalkgjasdlmg\t15098234609\tklajgklasdjlgkja\n",
      "15098234609\n",
      "['1241509', 'akldjglkajdglk', '150928091846']\n",
      "adgadgj     adkljgalkjg\n",
      "adgadgj adkljgalkjg\n"
     ]
    }
   ],
   "source": [
    "st = 'abcdefghijkl'\n",
    "print(st)\n",
    "print(st[0])\n",
    "print(len(st))\n",
    "print(st[:3]) # First 3 char\n",
    "print(st[-3:]) # Last 3 char from the end\n",
    "\n",
    "st1 =\"\"\"I can't\"\"\"\n",
    "print(st1)\n",
    "\n",
    "st2 = 'I can\\'t'\n",
    "print(st2)\n",
    "\n",
    "# \\n <=> Enter\n",
    "# \\t <=> Tab\n",
    "\n",
    "st3 = '12345\\tlalkgjasdlmg\\t15098234609\\tklajgklasdjlgkja'\n",
    "print(st3)\n",
    "st3a = st3.split('\\t')\n",
    "print(st3a[2])\n",
    "\n",
    "st4 = '1241509\\nakldjglkajdglk\\n150928091846'\n",
    "st4a = st4.splitlines()\n",
    "print(st4a)\n",
    "\n",
    "# index and find have difference, index if can not find will return error, find return -1\n",
    "\n",
    "st5 = '                adgadgj     adkljgalkjg        '\n",
    "print(st5.strip())\n",
    "print(st5.strip().replace('  ',''))\n",
    "\n",
    "# xor operator <=> ^ X xor Y <=> X ^ Y\n",
    "\n"
   ]
  },
  {
   "cell_type": "code",
   "execution_count": 26,
   "metadata": {},
   "outputs": [
    {
     "name": "stdout",
     "output_type": "stream",
     "text": [
      "i = 1\n",
      "i = 2\n",
      "i = 3\n",
      "It's four\n",
      "i = 4\n",
      "i = 5\n",
      "i = 6\n",
      "i = 7\n",
      "i = 8\n",
      "i = 9\n"
     ]
    }
   ],
   "source": [
    "# for i in reversed(range(-5, 10, 2)):\n",
    "#     print(f'i = {i}')\n",
    "\n",
    "# for i in 'abcdefghi':\n",
    "#     print(f'i = {i}')\n",
    "\n",
    "# i = 1\n",
    "# while i < 10:\n",
    "#     print(f'i = {i}')\n",
    "#     i += 1\n",
    "\n",
    "i = 1\n",
    "while i < 10 :\n",
    "    if i == 4:\n",
    "        print(f'It\\'s four')\n",
    "    print(f'i = {i}')\n",
    "    i +=1"
   ]
  },
  {
   "cell_type": "code",
   "execution_count": 4,
   "metadata": {},
   "outputs": [
    {
     "name": "stdout",
     "output_type": "stream",
     "text": [
      "13.0\n"
     ]
    }
   ],
   "source": [
    "x = float(input())\n",
    "y = float(input())\n",
    "z = float(input())\n",
    "\n",
    "sum3 = x + y + z\n",
    "\n",
    "print(sum3)"
   ]
  },
  {
   "cell_type": "code",
   "execution_count": null,
   "metadata": {},
   "outputs": [],
   "source": [
    "sum15 = 0\n",
    "\n",
    "for i in range(0,15):\n",
    "    x = float(input())\n",
    "    sum15 += x\n",
    "\n",
    "print(sum15)"
   ]
  },
  {
   "cell_type": "code",
   "execution_count": null,
   "metadata": {},
   "outputs": [],
   "source": [
    "n = int(input('Enter the number: '))\n",
    "\n",
    "sum_n = 0\n",
    "\n",
    "for i in range(0,n):\n",
    "    x = int(input())\n",
    "    sum_n += x\n",
    "\n",
    "print(sum_n)"
   ]
  },
  {
   "cell_type": "code",
   "execution_count": 1,
   "metadata": {},
   "outputs": [
    {
     "name": "stdout",
     "output_type": "stream",
     "text": [
      "120\n"
     ]
    }
   ],
   "source": [
    "n = int(input('Enter the number: '))\n",
    "\n",
    "product_n = 1\n",
    "\n",
    "for i in range(0,n):\n",
    "    x = int(input())\n",
    "    product_n *= x\n",
    "\n",
    "print(product_n)"
   ]
  },
  {
   "cell_type": "code",
   "execution_count": 11,
   "metadata": {},
   "outputs": [
    {
     "name": "stdout",
     "output_type": "stream",
     "text": [
      "3\n",
      "1 2 3 \n",
      "\n",
      "3\n"
     ]
    }
   ],
   "source": [
    "n = int(input())\n",
    "a = []\n",
    "\n",
    "for i in range(0,n):\n",
    "    x = int(input())\n",
    "    a.append(x)\n",
    "\n",
    "max_Items = a[0]\n",
    "for i in range(0,n):\n",
    "    if a[i] >= max_Items:\n",
    "        max_Items = a[i]\n",
    "\n",
    "print(max_Items)\n"
   ]
  },
  {
   "cell_type": "code",
   "execution_count": 28,
   "metadata": {},
   "outputs": [
    {
     "name": "stdout",
     "output_type": "stream",
     "text": [
      "4 25 49 81 121 169 324 4\n",
      "25\n",
      "49\n",
      "81\n",
      "121\n",
      "169\n",
      "324\n",
      "\n",
      "773\n"
     ]
    }
   ],
   "source": [
    "num_list = [2,5,7,9,11,13,18]\n",
    "\n",
    "for i in range(len(num_list)):\n",
    "    print(str(num_list[i] * num_list[i]), end = ' ')\n",
    "\n",
    "for i in num_list:\n",
    "    print(i**2)\n",
    "\n",
    "sum_power2 = 0\n",
    "for i in range(len(num_list)):\n",
    "    sum_power2 += num_list[i] * num_list[i]\n",
    "\n",
    "print(f\"\\n{sum_power2}\")"
   ]
  },
  {
   "cell_type": "code",
   "execution_count": 13,
   "metadata": {},
   "outputs": [
    {
     "name": "stdout",
     "output_type": "stream",
     "text": [
      "[1, 2, 3, 3, 2, 1, 1, 2, 3]\n",
      "{1, 2, 3}\n",
      "[3, 3, 3, 2, 2, 2, 1, 1, 1]\n",
      "Jan = 31\n",
      "Feb = 28\n",
      "Mar = 31\n",
      "Jan = 31\n",
      "Feb = 28\n",
      "Mar = 31\n",
      "31\n",
      "28\n",
      "31\n"
     ]
    }
   ],
   "source": [
    "a = [1,2,3,3,2,1,1,2,3]\n",
    "print(a)\n",
    "\n",
    "b = set(a)\n",
    "print(b)\n",
    "\n",
    "print(sorted(a, reverse=True))\n",
    "\n",
    "my_dict = {'Jan': 31, 'Feb': 28, 'Mar': 31}\n",
    "\n",
    "for k,v in my_dict.items():\n",
    "    print(f'{k} = {v}')\n",
    "\n",
    "for k in my_dict.keys():\n",
    "    print(f'{k} = {my_dict[k]}')\n",
    "\n",
    "for v in my_dict.values():\n",
    "    print(v)\n"
   ]
  },
  {
   "cell_type": "code",
   "execution_count": 21,
   "metadata": {},
   "outputs": [
    {
     "data": {
      "text/plain": [
       "{'in': 1,\n",
       " 'a': 2,\n",
       " 'competitive': 1,\n",
       " 'research': 3,\n",
       " 'environment': 1,\n",
       " 'publishing': 1,\n",
       " 'is': 2,\n",
       " 'not': 1,\n",
       " 'enough': 1,\n",
       " 'anymore': 1,\n",
       " 'you': 3,\n",
       " 'have': 1,\n",
       " 'to': 4,\n",
       " 'make': 1,\n",
       " 'your': 8,\n",
       " 'accessible': 1,\n",
       " 'findable': 1,\n",
       " 'and': 3,\n",
       " 'visible': 1,\n",
       " 'online': 3,\n",
       " 'identity': 2,\n",
       " 'the': 2,\n",
       " 'central': 1,\n",
       " 'key': 1,\n",
       " 'for': 2,\n",
       " 'career': 1,\n",
       " 'recognition': 1,\n",
       " 'particularly': 1,\n",
       " 'young': 1,\n",
       " 'researchers': 1,\n",
       " 'this': 1,\n",
       " 'session': 1,\n",
       " 'will': 3,\n",
       " 'help': 1,\n",
       " 'build': 1,\n",
       " 'profile': 1,\n",
       " 'by': 2,\n",
       " 'applying': 1,\n",
       " 'best': 2,\n",
       " 'practices': 1,\n",
       " 'learn': 1,\n",
       " 'how': 1,\n",
       " 'evaluate': 1,\n",
       " 'promote': 1,\n",
       " 'work': 1,\n",
       " 'using': 1,\n",
       " 'tools': 1,\n",
       " 'suited': 1,\n",
       " 'needs': 1,\n",
       " 'special': 1,\n",
       " 'focus': 1,\n",
       " 'on': 1,\n",
       " 'orcid': 1,\n",
       " 'be': 1,\n",
       " 'presented': 1}"
      ]
     },
     "execution_count": 21,
     "metadata": {},
     "output_type": "execute_result"
    }
   ],
   "source": [
    "# TO DO\n",
    "\n",
    "my_text = \"\"\"In a competitive research environment, publishing is not enough anymore. You have to make your research accessible, \n",
    "findable and visible. Your online identity is the central key for your career and your recognition, particularly for young researchers. \n",
    "This session will help you to build your online research profile by applying best practices. \n",
    "You will learn how to evaluate your online identity and promote your work by using the tools best suited to your needs. \n",
    "A special focus on ORCID will be presented.\"\"\"\n",
    "\n",
    "my_text = my_text.lower()\n",
    "my_text = my_text.replace(',','')\n",
    "my_text = my_text.replace('.','')\n",
    "my_text = my_text.replace('\\n','')\n",
    "\n",
    "word_list = my_text.split(sep = ' ')\n",
    "\n",
    "counts = dict()\n",
    "\n",
    "for word in word_list:\n",
    "    if word in counts:\n",
    "        counts[word] += 1\n",
    "    else:\n",
    "        counts[word] = 1\n",
    "\n",
    "counts\n"
   ]
  },
  {
   "cell_type": "code",
   "execution_count": 5,
   "metadata": {},
   "outputs": [
    {
     "name": "stdout",
     "output_type": "stream",
     "text": [
      "[[1, 2, 4], [2, 4, 3], [0, 0, 1], [5, 4, 0]]\n",
      "[1, 2, 4]\n",
      "[2, 4, 3]\n",
      "[0, 0, 1]\n",
      "[5, 4, 0]\n",
      "[7, 9, 1, 9]\n",
      "[]\n"
     ]
    }
   ],
   "source": [
    "import math\n",
    "list_2D = [[1,2,4], [2,4,3], [0,0,1], [5,4,0]]\n",
    "print(list_2D)\n",
    "for row in list_2D:\n",
    "    print(row)\n",
    "\n",
    "list_row = []\n",
    "list_col = []\n",
    "\n",
    "for row in list_2D:\n",
    "    list_row.append(sum(row))\n",
    "\n",
    "print(list_row)\n",
    "print(sum(list_row))\n",
    "\n",
    "list_2D_transpose = [[]]\n",
    "\n",
    "for i in range(list_2D):\n",
    "    for j in range(len(list_2D[i])):\n",
    "        tmp = list_2D_transpose[j]\n",
    "        tmp.append(list_2D[i][j])\n",
    "        list_2D_transpose.append(tmp)\n",
    "\n",
    "print(list_col)\n"
   ]
  },
  {
   "cell_type": "code",
   "execution_count": 22,
   "metadata": {},
   "outputs": [
    {
     "name": "stdout",
     "output_type": "stream",
     "text": [
      "8 \n",
      "\n",
      "25\n"
     ]
    }
   ],
   "source": [
    "email = 'cv131116@student.sgh.waw.@pl'\n",
    "\n",
    "print(email.find('@'),'\\n')\n",
    "print(email.rfind('@'))\n"
   ]
  }
 ],
 "metadata": {
  "kernelspec": {
   "display_name": "Python 3",
   "language": "python",
   "name": "python3"
  },
  "language_info": {
   "codemirror_mode": {
    "name": "ipython",
    "version": 3
   },
   "file_extension": ".py",
   "mimetype": "text/x-python",
   "name": "python",
   "nbconvert_exporter": "python",
   "pygments_lexer": "ipython3",
   "version": "3.11.5"
  }
 },
 "nbformat": 4,
 "nbformat_minor": 2
}
