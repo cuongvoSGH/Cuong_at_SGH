{
 "cells": [
  {
   "cell_type": "code",
   "execution_count": 1,
   "metadata": {},
   "outputs": [
    {
     "name": "stdout",
     "output_type": "stream",
     "text": [
      "2\n",
      "35\n"
     ]
    }
   ],
   "source": [
    "a = 1\n",
    "b = 1\n",
    "print(a+b)\n",
    "\n",
    "c = 15\n",
    "d = 20\n",
    "print(c+d)"
   ]
  },
  {
   "cell_type": "code",
   "execution_count": 5,
   "metadata": {},
   "outputs": [
    {
     "name": "stdout",
     "output_type": "stream",
     "text": [
      "4097\n",
      "<class 'float'>\n",
      "3.3333333333333335\n",
      "1\n"
     ]
    }
   ],
   "source": [
    "ab = 0x1001\n",
    "\n",
    "# 0x: hexa\n",
    "# 0b: binary\n",
    "# 0o: octa\n",
    "\n",
    "print(ab)\n",
    "\n",
    "a = 10\n",
    "b = 3\n",
    "c= a/3\n",
    "\n",
    "print(type(c))\n",
    "print(c)\n",
    "\n",
    "d = a % b\n",
    "print(d)"
   ]
  },
  {
   "cell_type": "code",
   "execution_count": 20,
   "metadata": {},
   "outputs": [
    {
     "name": "stdout",
     "output_type": "stream",
     "text": [
      "abcdefghijkl\n",
      "a\n",
      "12\n",
      "abc\n",
      "jkl\n",
      "I can't\n",
      "I can't\n",
      "12345\tlalkgjasdlmg\t15098234609\tklajgklasdjlgkja\n",
      "15098234609\n",
      "['1241509', 'akldjglkajdglk', '150928091846']\n",
      "adgadgj     adkljgalkjg\n",
      "adgadgj adkljgalkjg\n"
     ]
    }
   ],
   "source": [
    "st = 'abcdefghijkl'\n",
    "print(st)\n",
    "print(st[0])\n",
    "print(len(st))\n",
    "print(st[:3]) # First 3 char\n",
    "print(st[-3:]) # Last 3 char from the end\n",
    "\n",
    "st1 =\"\"\"I can't\"\"\"\n",
    "print(st1)\n",
    "\n",
    "st2 = 'I can\\'t'\n",
    "print(st2)\n",
    "\n",
    "# \\n <=> Enter\n",
    "# \\t <=> Tab\n",
    "\n",
    "st3 = '12345\\tlalkgjasdlmg\\t15098234609\\tklajgklasdjlgkja'\n",
    "print(st3)\n",
    "st3a = st3.split('\\t')\n",
    "print(st3a[2])\n",
    "\n",
    "st4 = '1241509\\nakldjglkajdglk\\n150928091846'\n",
    "st4a = st4.splitlines()\n",
    "print(st4a)\n",
    "\n",
    "# index and find have difference, index if can not find will return error, find return -1\n",
    "\n",
    "st5 = '                adgadgj     adkljgalkjg        '\n",
    "print(st5.strip())\n",
    "print(st5.strip().replace('  ',''))\n",
    "\n",
    "# xor operator <=> ^ X xor Y <=> X ^ Y\n",
    "\n"
   ]
  },
  {
   "cell_type": "code",
   "execution_count": 26,
   "metadata": {},
   "outputs": [
    {
     "name": "stdout",
     "output_type": "stream",
     "text": [
      "i = 1\n",
      "i = 2\n",
      "i = 3\n",
      "It's four\n",
      "i = 4\n",
      "i = 5\n",
      "i = 6\n",
      "i = 7\n",
      "i = 8\n",
      "i = 9\n"
     ]
    }
   ],
   "source": [
    "# for i in reversed(range(-5, 10, 2)):\n",
    "#     print(f'i = {i}')\n",
    "\n",
    "# for i in 'abcdefghi':\n",
    "#     print(f'i = {i}')\n",
    "\n",
    "# i = 1\n",
    "# while i < 10:\n",
    "#     print(f'i = {i}')\n",
    "#     i += 1\n",
    "\n",
    "i = 1\n",
    "while i < 10 :\n",
    "    if i == 4:\n",
    "        print(f'It\\'s four')\n",
    "    print(f'i = {i}')\n",
    "    i +=1"
   ]
  },
  {
   "cell_type": "code",
   "execution_count": 4,
   "metadata": {},
   "outputs": [
    {
     "name": "stdout",
     "output_type": "stream",
     "text": [
      "13.0\n"
     ]
    }
   ],
   "source": [
    "x = float(input())\n",
    "y = float(input())\n",
    "z = float(input())\n",
    "\n",
    "sum3 = x + y + z\n",
    "\n",
    "print(sum3)"
   ]
  },
  {
   "cell_type": "code",
   "execution_count": null,
   "metadata": {},
   "outputs": [],
   "source": [
    "sum15 = 0\n",
    "\n",
    "for i in range(0,15):\n",
    "    x = float(input())\n",
    "    sum15 += x\n",
    "\n",
    "print(sum15)"
   ]
  },
  {
   "cell_type": "code",
   "execution_count": null,
   "metadata": {},
   "outputs": [],
   "source": [
    "n = int(input('Enter the number: '))\n",
    "\n",
    "sum_n = 0\n",
    "\n",
    "for i in range(0,n):\n",
    "    x = int(input())\n",
    "    sum_n += x\n",
    "\n",
    "print(sum_n)"
   ]
  },
  {
   "cell_type": "code",
   "execution_count": 1,
   "metadata": {},
   "outputs": [
    {
     "name": "stdout",
     "output_type": "stream",
     "text": [
      "120\n"
     ]
    }
   ],
   "source": [
    "n = int(input('Enter the number: '))\n",
    "\n",
    "product_n = 1\n",
    "\n",
    "for i in range(0,n):\n",
    "    x = int(input())\n",
    "    product_n *= x\n",
    "\n",
    "print(product_n)"
   ]
  },
  {
   "cell_type": "code",
   "execution_count": 11,
   "metadata": {},
   "outputs": [
    {
     "name": "stdout",
     "output_type": "stream",
     "text": [
      "3\n",
      "1 2 3 \n",
      "\n",
      "3\n"
     ]
    }
   ],
   "source": [
    "n = int(input())\n",
    "a = []\n",
    "\n",
    "for i in range(0,n):\n",
    "    x = int(input())\n",
    "    a.append(x)\n",
    "\n",
    "max_Items = a[0]\n",
    "for i in range(0,n):\n",
    "    if a[i] >= max_Items:\n",
    "        max_Items = a[i]\n",
    "\n",
    "print(max_Items)\n"
   ]
  },
  {
   "cell_type": "code",
   "execution_count": 28,
   "metadata": {},
   "outputs": [
    {
     "name": "stdout",
     "output_type": "stream",
     "text": [
      "4 25 49 81 121 169 324 4\n",
      "25\n",
      "49\n",
      "81\n",
      "121\n",
      "169\n",
      "324\n",
      "\n",
      "773\n"
     ]
    }
   ],
   "source": [
    "num_list = [2,5,7,9,11,13,18]\n",
    "\n",
    "for i in range(len(num_list)):\n",
    "    print(str(num_list[i] * num_list[i]), end = ' ')\n",
    "\n",
    "for i in num_list:\n",
    "    print(i**2)\n",
    "\n",
    "sum_power2 = 0\n",
    "for i in range(len(num_list)):\n",
    "    sum_power2 += num_list[i] * num_list[i]\n",
    "\n",
    "print(f\"\\n{sum_power2}\")"
   ]
  },
  {
   "cell_type": "code",
   "execution_count": 13,
   "metadata": {},
   "outputs": [
    {
     "name": "stdout",
     "output_type": "stream",
     "text": [
      "[1, 2, 3, 3, 2, 1, 1, 2, 3]\n",
      "{1, 2, 3}\n",
      "[3, 3, 3, 2, 2, 2, 1, 1, 1]\n",
      "Jan = 31\n",
      "Feb = 28\n",
      "Mar = 31\n",
      "Jan = 31\n",
      "Feb = 28\n",
      "Mar = 31\n",
      "31\n",
      "28\n",
      "31\n"
     ]
    }
   ],
   "source": [
    "a = [1,2,3,3,2,1,1,2,3]\n",
    "print(a)\n",
    "\n",
    "b = set(a)\n",
    "print(b)\n",
    "\n",
    "print(sorted(a, reverse=True))\n",
    "\n",
    "my_dict = {'Jan': 31, 'Feb': 28, 'Mar': 31}\n",
    "\n",
    "for k,v in my_dict.items():\n",
    "    print(f'{k} = {v}')\n",
    "\n",
    "for k in my_dict.keys():\n",
    "    print(f'{k} = {my_dict[k]}')\n",
    "\n",
    "for v in my_dict.values():\n",
    "    print(v)\n"
   ]
  },
  {
   "cell_type": "code",
   "execution_count": 21,
   "metadata": {},
   "outputs": [
    {
     "data": {
      "text/plain": [
       "{'in': 1,\n",
       " 'a': 2,\n",
       " 'competitive': 1,\n",
       " 'research': 3,\n",
       " 'environment': 1,\n",
       " 'publishing': 1,\n",
       " 'is': 2,\n",
       " 'not': 1,\n",
       " 'enough': 1,\n",
       " 'anymore': 1,\n",
       " 'you': 3,\n",
       " 'have': 1,\n",
       " 'to': 4,\n",
       " 'make': 1,\n",
       " 'your': 8,\n",
       " 'accessible': 1,\n",
       " 'findable': 1,\n",
       " 'and': 3,\n",
       " 'visible': 1,\n",
       " 'online': 3,\n",
       " 'identity': 2,\n",
       " 'the': 2,\n",
       " 'central': 1,\n",
       " 'key': 1,\n",
       " 'for': 2,\n",
       " 'career': 1,\n",
       " 'recognition': 1,\n",
       " 'particularly': 1,\n",
       " 'young': 1,\n",
       " 'researchers': 1,\n",
       " 'this': 1,\n",
       " 'session': 1,\n",
       " 'will': 3,\n",
       " 'help': 1,\n",
       " 'build': 1,\n",
       " 'profile': 1,\n",
       " 'by': 2,\n",
       " 'applying': 1,\n",
       " 'best': 2,\n",
       " 'practices': 1,\n",
       " 'learn': 1,\n",
       " 'how': 1,\n",
       " 'evaluate': 1,\n",
       " 'promote': 1,\n",
       " 'work': 1,\n",
       " 'using': 1,\n",
       " 'tools': 1,\n",
       " 'suited': 1,\n",
       " 'needs': 1,\n",
       " 'special': 1,\n",
       " 'focus': 1,\n",
       " 'on': 1,\n",
       " 'orcid': 1,\n",
       " 'be': 1,\n",
       " 'presented': 1}"
      ]
     },
     "execution_count": 21,
     "metadata": {},
     "output_type": "execute_result"
    }
   ],
   "source": [
    "# TO DO\n",
    "\n",
    "my_text = \"\"\"In a competitive research environment, publishing is not enough anymore. You have to make your research accessible, \n",
    "findable and visible. Your online identity is the central key for your career and your recognition, particularly for young researchers. \n",
    "This session will help you to build your online research profile by applying best practices. \n",
    "You will learn how to evaluate your online identity and promote your work by using the tools best suited to your needs. \n",
    "A special focus on ORCID will be presented.\"\"\"\n",
    "\n",
    "my_text = my_text.lower()\n",
    "my_text = my_text.replace(',','')\n",
    "my_text = my_text.replace('.','')\n",
    "my_text = my_text.replace('\\n','')\n",
    "\n",
    "word_list = my_text.split(sep = ' ')\n",
    "\n",
    "counts = dict()\n",
    "\n",
    "for word in word_list:\n",
    "    if word in counts:\n",
    "        counts[word] += 1\n",
    "    else:\n",
    "        counts[word] = 1\n",
    "\n",
    "counts\n"
   ]
  },
  {
   "cell_type": "code",
   "execution_count": 16,
   "metadata": {},
   "outputs": [
    {
     "name": "stdout",
     "output_type": "stream",
     "text": [
      "[10, 3, 5, 2, 9]\n",
      "[11, 10, 8]\n",
      "29\n",
      "[(3, 1, 3, 0, 4), (5, 2, 1, 0, 2), (2, 0, 1, 2, 3)]\n"
     ]
    }
   ],
   "source": [
    "import math\n",
    "import numpy as np\n",
    "list_2D = [[3,5,2],[1,2,0],[3,1,1],[0,0,2],[4,2,3]]\n",
    "\n",
    "# print(list_2D)\n",
    "# for row in list_2D:\n",
    "#     print(row)\n",
    "\n",
    "list_row = []\n",
    "list_col = []\n",
    "\n",
    "for row in list_2D:\n",
    "    list_row.append(sum(row))\n",
    "\n",
    "print(list_row)\n",
    "\n",
    "list_2D_transpose = []\n",
    "tmp = []\n",
    "\n",
    "for i in range(len(list_2D[0])):\n",
    "    tmp = []\n",
    "    tmp.append(list_2D[0][i])\n",
    "    list_2D_transpose.append(tmp)\n",
    "\n",
    "for i in range(1,len(list_2D)):\n",
    "    for j in range(len(list_2D[i])):\n",
    "        tmp = []\n",
    "        tmp = list_2D_transpose[j]\n",
    "        tmp.append(list_2D[i][j])\n",
    "        list_2D_transpose[j] = tmp\n",
    "\n",
    "for col in list_2D_transpose:\n",
    "    list_col.append(sum(col))\n",
    "\n",
    "print(list_col)\n",
    "\n",
    "# list_2D_transpose = np.asarray(list_2D).transpose()\n",
    "# for rows in list_2D_transpose:\n",
    "#     list_col.append(sum(rows))\n",
    "\n",
    "# print(list_col)\n",
    "\n",
    "print(sum(list_row))\n",
    "\n",
    "transpose_list_2D = list(zip(*list_2D))\n",
    "print(transpose_list_2D)"
   ]
  },
  {
   "cell_type": "code",
   "execution_count": 22,
   "metadata": {},
   "outputs": [
    {
     "name": "stdout",
     "output_type": "stream",
     "text": [
      "8 \n",
      "\n",
      "25\n"
     ]
    }
   ],
   "source": [
    "email = 'cv131116@student.sgh.waw.@pl'\n",
    "\n",
    "print(email.find('@'),'\\n')\n",
    "print(email.rfind('@'))\n"
   ]
  },
  {
   "cell_type": "code",
   "execution_count": 17,
   "metadata": {},
   "outputs": [
    {
     "name": "stdout",
     "output_type": "stream",
     "text": [
      "[('Python', '3.12'), ('Java', '17'), ('Cpp', '14')]\n"
     ]
    }
   ],
   "source": [
    "lang_name = ['Python', 'Java', 'Cpp']\n",
    "lang_vers = ['3.12', '17','14']\n",
    "\n",
    "langs = list(zip(lang_name,lang_vers))\n",
    "\n",
    "print(langs)"
   ]
  },
  {
   "cell_type": "code",
   "execution_count": 5,
   "metadata": {},
   "outputs": [
    {
     "data": {
      "image/png": "[encoded data removed]",
      "text/plain": [
       "<Figure size 640x480 with 1 Axes>"
      ]
     },
     "metadata": {},
     "output_type": "display_data"
    },
    {
     "data": {
      "text/plain": [
       "Text(0.5, 0, 'Z Axis')"
      ]
     },
     "execution_count": 5,
     "metadata": {},
     "output_type": "execute_result"
    },
    {
     "data": {
      "image/png": "[encoded data removed]",
      "text/plain": [
       "<Figure size 640x480 with 2 Axes>"
      ]
     },
     "metadata": {},
     "output_type": "display_data"
    }
   ],
   "source": [
    "import matplotlib.pyplot as plt\n",
    "\n",
    "points_2D = [[3,5],[1,2],[3,1],[0,0],[4,2]]\n",
    "points_3D = [[3,5,2],[1,2,0],[3,1,1],[0,0,2],[4,2,3]]\n",
    "\n",
    "xs = [i[0] for i in points_2D]\n",
    "ys = [i[1] for i in points_2D]\n",
    "\n",
    "plt.plot(xs, ys, 'o')\n",
    "plt.xlabel('X Axis')\n",
    "plt.ylabel('Y Axis')\n",
    "plt.savefig('plot_2D.png')\n",
    "plt.show()\n",
    "\n",
    "xs = [i[0] for i in points_3D]\n",
    "ys = [i[1] for i in points_3D]\n",
    "zs = [i[2] for i in points_3D]\n",
    "\n",
    "fig = plt.figure()\n",
    "ax = plt.axes(projection ='3d')\n",
    "ax.plot3D(xs,ys,zs,'o')\n",
    "\n",
    "ay = fig.add_subplot(projection = '3d')\n",
    "ay.scatter(xs,ys,zs, marker='^')\n",
    "ay.set_xlabel('X Axis')\n",
    "ay.set_ylabel('Y Axis')\n",
    "ay.set_zlabel('Z Axis')\n"
   ]
  },
  {
   "cell_type": "code",
   "execution_count": 7,
   "metadata": {},
   "outputs": [
    {
     "data": {
      "application/vnd.plotly.v1+json": {
       "config": {
        "plotlyServerURL": "https://plot.ly"
       },
       "data": [
        {
         "hovertemplate": "x=%{x}<br>y=%{y}<extra></extra>",
         "legendgroup": "",
         "marker": {
          "color": "#636efa",
          "symbol": "circle"
         },
         "mode": "markers",
         "name": "",
         "orientation": "v",
         "showlegend": false,
         "type": "scatter",
         "x": [
          3,
          1,
          3,
          0,
          4
         ],
         "xaxis": "x",
         "y": [
          5,
          2,
          1,
          0,
          2
         ],
         "yaxis": "y"
        }
       ],
       "layout": {
        "legend": {
         "tracegroupgap": 0
        },
        "margin": {
         "t": 60
        },
        "template": {
         "data": {
          "bar": [
           {
            "error_x": {
             "color": "#2a3f5f"
            },
            "error_y": {
             "color": "#2a3f5f"
            },
            "marker": {
             "line": {
              "color": "#E5ECF6",
              "width": 0.5
             },
             "pattern": {
              "fillmode": "overlay",
              "size": 10,
              "solidity": 0.2
             }
            },
            "type": "bar"
           }
          ],
          "barpolar": [
           {
            "marker": {
             "line": {
              "color": "#E5ECF6",
              "width": 0.5
             },
             "pattern": {
              "fillmode": "overlay",
              "size": 10,
              "solidity": 0.2
             }
            },
            "type": "barpolar"
           }
          ],
          "carpet": [
           {
            "aaxis": {
             "endlinecolor": "#2a3f5f",
             "gridcolor": "white",
             "linecolor": "white",
             "minorgridcolor": "white",
             "startlinecolor": "#2a3f5f"
            },
            "baxis": {
             "endlinecolor": "#2a3f5f",
             "gridcolor": "white",
             "linecolor": "white",
             "minorgridcolor": "white",
             "startlinecolor": "#2a3f5f"
            },
            "type": "carpet"
           }
          ],
          "choropleth": [
           {
            "colorbar": {
             "outlinewidth": 0,
             "ticks": ""
            },
            "type": "choropleth"
           }
          ],
          "contour": [
           {
            "colorbar": {
             "outlinewidth": 0,
             "ticks": ""
            },
            "colorscale": [
             [
              0,
              "#0d0887"
             ],
             [
              0.1111111111111111,
              "#46039f"
             ],
             [
              0.2222222222222222,
              "#7201a8"
             ],
             [
              0.3333333333333333,
              "#9c179e"
             ],
             [
              0.4444444444444444,
              "#bd3786"
             ],
             [
              0.5555555555555556,
              "#d8576b"
             ],
             [
              0.6666666666666666,
              "#ed7953"
             ],
             [
              0.7777777777777778,
              "#fb9f3a"
             ],
             [
              0.8888888888888888,
              "#fdca26"
             ],
             [
              1,
              "#f0f921"
             ]
            ],
            "type": "contour"
           }
          ],
          "contourcarpet": [
           {
            "colorbar": {
             "outlinewidth": 0,
             "ticks": ""
            },
            "type": "contourcarpet"
           }
          ],
          "heatmap": [
           {
            "colorbar": {
             "outlinewidth": 0,
             "ticks": ""
            },
            "colorscale": [
             [
              0,
              "#0d0887"
             ],
             [
              0.1111111111111111,
              "#46039f"
             ],
             [
              0.2222222222222222,
              "#7201a8"
             ],
             [
              0.3333333333333333,
              "#9c179e"
             ],
             [
              0.4444444444444444,
              "#bd3786"
             ],
             [
              0.5555555555555556,
              "#d8576b"
             ],
             [
              0.6666666666666666,
              "#ed7953"
             ],
             [
              0.7777777777777778,
              "#fb9f3a"
             ],
             [
              0.8888888888888888,
              "#fdca26"
             ],
             [
              1,
              "#f0f921"
             ]
            ],
            "type": "heatmap"
           }
          ],
          "heatmapgl": [
           {
            "colorbar": {
             "outlinewidth": 0,
             "ticks": ""
            },
            "colorscale": [
             [
              0,
              "#0d0887"
             ],
             [
              0.1111111111111111,
              "#46039f"
             ],
             [
              0.2222222222222222,
              "#7201a8"
             ],
             [
              0.3333333333333333,
              "#9c179e"
             ],
             [
              0.4444444444444444,
              "#bd3786"
             ],
             [
              0.5555555555555556,
              "#d8576b"
             ],
             [
              0.6666666666666666,
              "#ed7953"
             ],
             [
              0.7777777777777778,
              "#fb9f3a"
             ],
             [
              0.8888888888888888,
              "#fdca26"
             ],
             [
              1,
              "#f0f921"
             ]
            ],
            "type": "heatmapgl"
           }
          ],
          "histogram": [
           {
            "marker": {
             "pattern": {
              "fillmode": "overlay",
              "size": 10,
              "solidity": 0.2
             }
            },
            "type": "histogram"
           }
          ],
          "histogram2d": [
           {
            "colorbar": {
             "outlinewidth": 0,
             "ticks": ""
            },
            "colorscale": [
             [
              0,
              "#0d0887"
             ],
             [
              0.1111111111111111,
              "#46039f"
             ],
             [
              0.2222222222222222,
              "#7201a8"
             ],
             [
              0.3333333333333333,
              "#9c179e"
             ],
             [
              0.4444444444444444,
              "#bd3786"
             ],
             [
              0.5555555555555556,
              "#d8576b"
             ],
             [
              0.6666666666666666,
              "#ed7953"
             ],
             [
              0.7777777777777778,
              "#fb9f3a"
             ],
             [
              0.8888888888888888,
              "#fdca26"
             ],
             [
              1,
              "#f0f921"
             ]
            ],
            "type": "histogram2d"
           }
          ],
          "histogram2dcontour": [
           {
            "colorbar": {
             "outlinewidth": 0,
             "ticks": ""
            },
            "colorscale": [
             [
              0,
              "#0d0887"
             ],
             [
              0.1111111111111111,
              "#46039f"
             ],
             [
              0.2222222222222222,
              "#7201a8"
             ],
             [
              0.3333333333333333,
              "#9c179e"
             ],
             [
              0.4444444444444444,
              "#bd3786"
             ],
             [
              0.5555555555555556,
              "#d8576b"
             ],
             [
              0.6666666666666666,
              "#ed7953"
             ],
             [
              0.7777777777777778,
              "#fb9f3a"
             ],
             [
              0.8888888888888888,
              "#fdca26"
             ],
             [
              1,
              "#f0f921"
             ]
            ],
            "type": "histogram2dcontour"
           }
          ],
          "mesh3d": [
           {
            "colorbar": {
             "outlinewidth": 0,
             "ticks": ""
            },
            "type": "mesh3d"
           }
          ],
          "parcoords": [
           {
            "line": {
             "colorbar": {
              "outlinewidth": 0,
              "ticks": ""
             }
            },
            "type": "parcoords"
           }
          ],
          "pie": [
           {
            "automargin": true,
            "type": "pie"
           }
          ],
          "scatter": [
           {
            "fillpattern": {
             "fillmode": "overlay",
             "size": 10,
             "solidity": 0.2
            },
            "type": "scatter"
           }
          ],
          "scatter3d": [
           {
            "line": {
             "colorbar": {
              "outlinewidth": 0,
              "ticks": ""
             }
            },
            "marker": {
             "colorbar": {
              "outlinewidth": 0,
              "ticks": ""
             }
            },
            "type": "scatter3d"
           }
          ],
          "scattercarpet": [
           {
            "marker": {
             "colorbar": {
              "outlinewidth": 0,
              "ticks": ""
             }
            },
            "type": "scattercarpet"
           }
          ],
          "scattergeo": [
           {
            "marker": {
             "colorbar": {
              "outlinewidth": 0,
              "ticks": ""
             }
            },
            "type": "scattergeo"
           }
          ],
          "scattergl": [
           {
            "marker": {
             "colorbar": {
              "outlinewidth": 0,
              "ticks": ""
             }
            },
            "type": "scattergl"
           }
          ],
          "scattermapbox": [
           {
            "marker": {
             "colorbar": {
              "outlinewidth": 0,
              "ticks": ""
             }
            },
            "type": "scattermapbox"
           }
          ],
          "scatterpolar": [
           {
            "marker": {
             "colorbar": {
              "outlinewidth": 0,
              "ticks": ""
             }
            },
            "type": "scatterpolar"
           }
          ],
          "scatterpolargl": [
           {
            "marker": {
             "colorbar": {
              "outlinewidth": 0,
              "ticks": ""
             }
            },
            "type": "scatterpolargl"
           }
          ],
          "scatterternary": [
           {
            "marker": {
             "colorbar": {
              "outlinewidth": 0,
              "ticks": ""
             }
            },
            "type": "scatterternary"
           }
          ],
          "surface": [
           {
            "colorbar": {
             "outlinewidth": 0,
             "ticks": ""
            },
            "colorscale": [
             [
              0,
              "#0d0887"
             ],
             [
              0.1111111111111111,
              "#46039f"
             ],
             [
              0.2222222222222222,
              "#7201a8"
             ],
             [
              0.3333333333333333,
              "#9c179e"
             ],
             [
              0.4444444444444444,
              "#bd3786"
             ],
             [
              0.5555555555555556,
              "#d8576b"
             ],
             [
              0.6666666666666666,
              "#ed7953"
             ],
             [
              0.7777777777777778,
              "#fb9f3a"
             ],
             [
              0.8888888888888888,
              "#fdca26"
             ],
             [
              1,
              "#f0f921"
             ]
            ],
            "type": "surface"
           }
          ],
          "table": [
           {
            "cells": {
             "fill": {
              "color": "#EBF0F8"
             },
             "line": {
              "color": "white"
             }
            },
            "header": {
             "fill": {
              "color": "#C8D4E3"
             },
             "line": {
              "color": "white"
             }
            },
            "type": "table"
           }
          ]
         },
         "layout": {
          "annotationdefaults": {
           "arrowcolor": "#2a3f5f",
           "arrowhead": 0,
           "arrowwidth": 1
          },
          "autotypenumbers": "strict",
          "coloraxis": {
           "colorbar": {
            "outlinewidth": 0,
            "ticks": ""
           }
          },
          "colorscale": {
           "diverging": [
            [
             0,
             "#8e0152"
            ],
            [
             0.1,
             "#c51b7d"
            ],
            [
             0.2,
             "#de77ae"
            ],
            [
             0.3,
             "#f1b6da"
            ],
            [
             0.4,
             "#fde0ef"
            ],
            [
             0.5,
             "#f7f7f7"
            ],
            [
             0.6,
             "#e6f5d0"
            ],
            [
             0.7,
             "#b8e186"
            ],
            [
             0.8,
             "#7fbc41"
            ],
            [
             0.9,
             "#4d9221"
            ],
            [
             1,
             "#276419"
            ]
           ],
           "sequential": [
            [
             0,
             "#0d0887"
            ],
            [
             0.1111111111111111,
             "#46039f"
            ],
            [
             0.2222222222222222,
             "#7201a8"
            ],
            [
             0.3333333333333333,
             "#9c179e"
            ],
            [
             0.4444444444444444,
             "#bd3786"
            ],
            [
             0.5555555555555556,
             "#d8576b"
            ],
            [
             0.6666666666666666,
             "#ed7953"
            ],
            [
             0.7777777777777778,
             "#fb9f3a"
            ],
            [
             0.8888888888888888,
             "#fdca26"
            ],
            [
             1,
             "#f0f921"
            ]
           ],
           "sequentialminus": [
            [
             0,
             "#0d0887"
            ],
            [
             0.1111111111111111,
             "#46039f"
            ],
            [
             0.2222222222222222,
             "#7201a8"
            ],
            [
             0.3333333333333333,
             "#9c179e"
            ],
            [
             0.4444444444444444,
             "#bd3786"
            ],
            [
             0.5555555555555556,
             "#d8576b"
            ],
            [
             0.6666666666666666,
             "#ed7953"
            ],
            [
             0.7777777777777778,
             "#fb9f3a"
            ],
            [
             0.8888888888888888,
             "#fdca26"
            ],
            [
             1,
             "#f0f921"
            ]
           ]
          },
          "colorway": [
           "#636efa",
           "#EF553B",
           "#00cc96",
           "#ab63fa",
           "#FFA15A",
           "#19d3f3",
           "#FF6692",
           "#B6E880",
           "#FF97FF",
           "#FECB52"
          ],
          "font": {
           "color": "#2a3f5f"
          },
          "geo": {
           "bgcolor": "white",
           "lakecolor": "white",
           "landcolor": "#E5ECF6",
           "showlakes": true,
           "showland": true,
           "subunitcolor": "white"
          },
          "hoverlabel": {
           "align": "left"
          },
          "hovermode": "closest",
          "mapbox": {
           "style": "light"
          },
          "paper_bgcolor": "white",
          "plot_bgcolor": "#E5ECF6",
          "polar": {
           "angularaxis": {
            "gridcolor": "white",
            "linecolor": "white",
            "ticks": ""
           },
           "bgcolor": "#E5ECF6",
           "radialaxis": {
            "gridcolor": "white",
            "linecolor": "white",
            "ticks": ""
           }
          },
          "scene": {
           "xaxis": {
            "backgroundcolor": "#E5ECF6",
            "gridcolor": "white",
            "gridwidth": 2,
            "linecolor": "white",
            "showbackground": true,
            "ticks": "",
            "zerolinecolor": "white"
           },
           "yaxis": {
            "backgroundcolor": "#E5ECF6",
            "gridcolor": "white",
            "gridwidth": 2,
            "linecolor": "white",
            "showbackground": true,
            "ticks": "",
            "zerolinecolor": "white"
           },
           "zaxis": {
            "backgroundcolor": "#E5ECF6",
            "gridcolor": "white",
            "gridwidth": 2,
            "linecolor": "white",
            "showbackground": true,
            "ticks": "",
            "zerolinecolor": "white"
           }
          },
          "shapedefaults": {
           "line": {
            "color": "#2a3f5f"
           }
          },
          "ternary": {
           "aaxis": {
            "gridcolor": "white",
            "linecolor": "white",
            "ticks": ""
           },
           "baxis": {
            "gridcolor": "white",
            "linecolor": "white",
            "ticks": ""
           },
           "bgcolor": "#E5ECF6",
           "caxis": {
            "gridcolor": "white",
            "linecolor": "white",
            "ticks": ""
           }
          },
          "title": {
           "x": 0.05
          },
          "xaxis": {
           "automargin": true,
           "gridcolor": "white",
           "linecolor": "white",
           "ticks": "",
           "title": {
            "standoff": 15
           },
           "zerolinecolor": "white",
           "zerolinewidth": 2
          },
          "yaxis": {
           "automargin": true,
           "gridcolor": "white",
           "linecolor": "white",
           "ticks": "",
           "title": {
            "standoff": 15
           },
           "zerolinecolor": "white",
           "zerolinewidth": 2
          }
         }
        },
        "xaxis": {
         "anchor": "y",
         "domain": [
          0,
          1
         ],
         "title": {
          "text": "x"
         }
        },
        "yaxis": {
         "anchor": "x",
         "domain": [
          0,
          1
         ],
         "title": {
          "text": "y"
         }
        }
       }
      }
     },
     "metadata": {},
     "output_type": "display_data"
    },
    {
     "data": {
      "application/vnd.plotly.v1+json": {
       "config": {
        "plotlyServerURL": "https://plot.ly"
       },
       "data": [
        {
         "hovertemplate": "x=%{x}<br>y=%{y}<br>z=%{z}<extra></extra>",
         "legendgroup": "",
         "marker": {
          "color": "#636efa",
          "symbol": "circle"
         },
         "mode": "markers",
         "name": "",
         "scene": "scene",
         "showlegend": false,
         "type": "scatter3d",
         "x": [
          3,
          1,
          3,
          6,
          4
         ],
         "y": [
          5,
          2,
          1,
          7,
          2
         ],
         "z": [
          2,
          9,
          1,
          2,
          3
         ]
        }
       ],
       "layout": {
        "legend": {
         "tracegroupgap": 0
        },
        "margin": {
         "t": 60
        },
        "scene": {
         "domain": {
          "x": [
           0,
           1
          ],
          "y": [
           0,
           1
          ]
         },
         "xaxis": {
          "title": {
           "text": "x"
          }
         },
         "yaxis": {
          "title": {
           "text": "y"
          }
         },
         "zaxis": {
          "title": {
           "text": "z"
          }
         }
        },
        "template": {
         "data": {
          "bar": [
           {
            "error_x": {
             "color": "#2a3f5f"
            },
            "error_y": {
             "color": "#2a3f5f"
            },
            "marker": {
             "line": {
              "color": "#E5ECF6",
              "width": 0.5
             },
             "pattern": {
              "fillmode": "overlay",
              "size": 10,
              "solidity": 0.2
             }
            },
            "type": "bar"
           }
          ],
          "barpolar": [
           {
            "marker": {
             "line": {
              "color": "#E5ECF6",
              "width": 0.5
             },
             "pattern": {
              "fillmode": "overlay",
              "size": 10,
              "solidity": 0.2
             }
            },
            "type": "barpolar"
           }
          ],
          "carpet": [
           {
            "aaxis": {
             "endlinecolor": "#2a3f5f",
             "gridcolor": "white",
             "linecolor": "white",
             "minorgridcolor": "white",
             "startlinecolor": "#2a3f5f"
            },
            "baxis": {
             "endlinecolor": "#2a3f5f",
             "gridcolor": "white",
             "linecolor": "white",
             "minorgridcolor": "white",
             "startlinecolor": "#2a3f5f"
            },
            "type": "carpet"
           }
          ],
          "choropleth": [
           {
            "colorbar": {
             "outlinewidth": 0,
             "ticks": ""
            },
            "type": "choropleth"
           }
          ],
          "contour": [
           {
            "colorbar": {
             "outlinewidth": 0,
             "ticks": ""
            },
            "colorscale": [
             [
              0,
              "#0d0887"
             ],
             [
              0.1111111111111111,
              "#46039f"
             ],
             [
              0.2222222222222222,
              "#7201a8"
             ],
             [
              0.3333333333333333,
              "#9c179e"
             ],
             [
              0.4444444444444444,
              "#bd3786"
             ],
             [
              0.5555555555555556,
              "#d8576b"
             ],
             [
              0.6666666666666666,
              "#ed7953"
             ],
             [
              0.7777777777777778,
              "#fb9f3a"
             ],
             [
              0.8888888888888888,
              "#fdca26"
             ],
             [
              1,
              "#f0f921"
             ]
            ],
            "type": "contour"
           }
          ],
          "contourcarpet": [
           {
            "colorbar": {
             "outlinewidth": 0,
             "ticks": ""
            },
            "type": "contourcarpet"
           }
          ],
          "heatmap": [
           {
            "colorbar": {
             "outlinewidth": 0,
             "ticks": ""
            },
            "colorscale": [
             [
              0,
              "#0d0887"
             ],
             [
              0.1111111111111111,
              "#46039f"
             ],
             [
              0.2222222222222222,
              "#7201a8"
             ],
             [
              0.3333333333333333,
              "#9c179e"
             ],
             [
              0.4444444444444444,
              "#bd3786"
             ],
             [
              0.5555555555555556,
              "#d8576b"
             ],
             [
              0.6666666666666666,
              "#ed7953"
             ],
             [
              0.7777777777777778,
              "#fb9f3a"
             ],
             [
              0.8888888888888888,
              "#fdca26"
             ],
             [
              1,
              "#f0f921"
             ]
            ],
            "type": "heatmap"
           }
          ],
          "heatmapgl": [
           {
            "colorbar": {
             "outlinewidth": 0,
             "ticks": ""
            },
            "colorscale": [
             [
              0,
              "#0d0887"
             ],
             [
              0.1111111111111111,
              "#46039f"
             ],
             [
              0.2222222222222222,
              "#7201a8"
             ],
             [
              0.3333333333333333,
              "#9c179e"
             ],
             [
              0.4444444444444444,
              "#bd3786"
             ],
             [
              0.5555555555555556,
              "#d8576b"
             ],
             [
              0.6666666666666666,
              "#ed7953"
             ],
             [
              0.7777777777777778,
              "#fb9f3a"
             ],
             [
              0.8888888888888888,
              "#fdca26"
             ],
             [
              1,
              "#f0f921"
             ]
            ],
            "type": "heatmapgl"
           }
          ],
          "histogram": [
           {
            "marker": {
             "pattern": {
              "fillmode": "overlay",
              "size": 10,
              "solidity": 0.2
             }
            },
            "type": "histogram"
           }
          ],
          "histogram2d": [
           {
            "colorbar": {
             "outlinewidth": 0,
             "ticks": ""
            },
            "colorscale": [
             [
              0,
              "#0d0887"
             ],
             [
              0.1111111111111111,
              "#46039f"
             ],
             [
              0.2222222222222222,
              "#7201a8"
             ],
             [
              0.3333333333333333,
              "#9c179e"
             ],
             [
              0.4444444444444444,
              "#bd3786"
             ],
             [
              0.5555555555555556,
              "#d8576b"
             ],
             [
              0.6666666666666666,
              "#ed7953"
             ],
             [
              0.7777777777777778,
              "#fb9f3a"
             ],
             [
              0.8888888888888888,
              "#fdca26"
             ],
             [
              1,
              "#f0f921"
             ]
            ],
            "type": "histogram2d"
           }
          ],
          "histogram2dcontour": [
           {
            "colorbar": {
             "outlinewidth": 0,
             "ticks": ""
            },
            "colorscale": [
             [
              0,
              "#0d0887"
             ],
             [
              0.1111111111111111,
              "#46039f"
             ],
             [
              0.2222222222222222,
              "#7201a8"
             ],
             [
              0.3333333333333333,
              "#9c179e"
             ],
             [
              0.4444444444444444,
              "#bd3786"
             ],
             [
              0.5555555555555556,
              "#d8576b"
             ],
             [
              0.6666666666666666,
              "#ed7953"
             ],
             [
              0.7777777777777778,
              "#fb9f3a"
             ],
             [
              0.8888888888888888,
              "#fdca26"
             ],
             [
              1,
              "#f0f921"
             ]
            ],
            "type": "histogram2dcontour"
           }
          ],
          "mesh3d": [
           {
            "colorbar": {
             "outlinewidth": 0,
             "ticks": ""
            },
            "type": "mesh3d"
           }
          ],
          "parcoords": [
           {
            "line": {
             "colorbar": {
              "outlinewidth": 0,
              "ticks": ""
             }
            },
            "type": "parcoords"
           }
          ],
          "pie": [
           {
            "automargin": true,
            "type": "pie"
           }
          ],
          "scatter": [
           {
            "fillpattern": {
             "fillmode": "overlay",
             "size": 10,
             "solidity": 0.2
            },
            "type": "scatter"
           }
          ],
          "scatter3d": [
           {
            "line": {
             "colorbar": {
              "outlinewidth": 0,
              "ticks": ""
             }
            },
            "marker": {
             "colorbar": {
              "outlinewidth": 0,
              "ticks": ""
             }
            },
            "type": "scatter3d"
           }
          ],
          "scattercarpet": [
           {
            "marker": {
             "colorbar": {
              "outlinewidth": 0,
              "ticks": ""
             }
            },
            "type": "scattercarpet"
           }
          ],
          "scattergeo": [
           {
            "marker": {
             "colorbar": {
              "outlinewidth": 0,
              "ticks": ""
             }
            },
            "type": "scattergeo"
           }
          ],
          "scattergl": [
           {
            "marker": {
             "colorbar": {
              "outlinewidth": 0,
              "ticks": ""
             }
            },
            "type": "scattergl"
           }
          ],
          "scattermapbox": [
           {
            "marker": {
             "colorbar": {
              "outlinewidth": 0,
              "ticks": ""
             }
            },
            "type": "scattermapbox"
           }
          ],
          "scatterpolar": [
           {
            "marker": {
             "colorbar": {
              "outlinewidth": 0,
              "ticks": ""
             }
            },
            "type": "scatterpolar"
           }
          ],
          "scatterpolargl": [
           {
            "marker": {
             "colorbar": {
              "outlinewidth": 0,
              "ticks": ""
             }
            },
            "type": "scatterpolargl"
           }
          ],
          "scatterternary": [
           {
            "marker": {
             "colorbar": {
              "outlinewidth": 0,
              "ticks": ""
             }
            },
            "type": "scatterternary"
           }
          ],
          "surface": [
           {
            "colorbar": {
             "outlinewidth": 0,
             "ticks": ""
            },
            "colorscale": [
             [
              0,
              "#0d0887"
             ],
             [
              0.1111111111111111,
              "#46039f"
             ],
             [
              0.2222222222222222,
              "#7201a8"
             ],
             [
              0.3333333333333333,
              "#9c179e"
             ],
             [
              0.4444444444444444,
              "#bd3786"
             ],
             [
              0.5555555555555556,
              "#d8576b"
             ],
             [
              0.6666666666666666,
              "#ed7953"
             ],
             [
              0.7777777777777778,
              "#fb9f3a"
             ],
             [
              0.8888888888888888,
              "#fdca26"
             ],
             [
              1,
              "#f0f921"
             ]
            ],
            "type": "surface"
           }
          ],
          "table": [
           {
            "cells": {
             "fill": {
              "color": "#EBF0F8"
             },
             "line": {
              "color": "white"
             }
            },
            "header": {
             "fill": {
              "color": "#C8D4E3"
             },
             "line": {
              "color": "white"
             }
            },
            "type": "table"
           }
          ]
         },
         "layout": {
          "annotationdefaults": {
           "arrowcolor": "#2a3f5f",
           "arrowhead": 0,
           "arrowwidth": 1
          },
          "autotypenumbers": "strict",
          "coloraxis": {
           "colorbar": {
            "outlinewidth": 0,
            "ticks": ""
           }
          },
          "colorscale": {
           "diverging": [
            [
             0,
             "#8e0152"
            ],
            [
             0.1,
             "#c51b7d"
            ],
            [
             0.2,
             "#de77ae"
            ],
            [
             0.3,
             "#f1b6da"
            ],
            [
             0.4,
             "#fde0ef"
            ],
            [
             0.5,
             "#f7f7f7"
            ],
            [
             0.6,
             "#e6f5d0"
            ],
            [
             0.7,
             "#b8e186"
            ],
            [
             0.8,
             "#7fbc41"
            ],
            [
             0.9,
             "#4d9221"
            ],
            [
             1,
             "#276419"
            ]
           ],
           "sequential": [
            [
             0,
             "#0d0887"
            ],
            [
             0.1111111111111111,
             "#46039f"
            ],
            [
             0.2222222222222222,
             "#7201a8"
            ],
            [
             0.3333333333333333,
             "#9c179e"
            ],
            [
             0.4444444444444444,
             "#bd3786"
            ],
            [
             0.5555555555555556,
             "#d8576b"
            ],
            [
             0.6666666666666666,
             "#ed7953"
            ],
            [
             0.7777777777777778,
             "#fb9f3a"
            ],
            [
             0.8888888888888888,
             "#fdca26"
            ],
            [
             1,
             "#f0f921"
            ]
           ],
           "sequentialminus": [
            [
             0,
             "#0d0887"
            ],
            [
             0.1111111111111111,
             "#46039f"
            ],
            [
             0.2222222222222222,
             "#7201a8"
            ],
            [
             0.3333333333333333,
             "#9c179e"
            ],
            [
             0.4444444444444444,
             "#bd3786"
            ],
            [
             0.5555555555555556,
             "#d8576b"
            ],
            [
             0.6666666666666666,
             "#ed7953"
            ],
            [
             0.7777777777777778,
             "#fb9f3a"
            ],
            [
             0.8888888888888888,
             "#fdca26"
            ],
            [
             1,
             "#f0f921"
            ]
           ]
          },
          "colorway": [
           "#636efa",
           "#EF553B",
           "#00cc96",
           "#ab63fa",
           "#FFA15A",
           "#19d3f3",
           "#FF6692",
           "#B6E880",
           "#FF97FF",
           "#FECB52"
          ],
          "font": {
           "color": "#2a3f5f"
          },
          "geo": {
           "bgcolor": "white",
           "lakecolor": "white",
           "landcolor": "#E5ECF6",
           "showlakes": true,
           "showland": true,
           "subunitcolor": "white"
          },
          "hoverlabel": {
           "align": "left"
          },
          "hovermode": "closest",
          "mapbox": {
           "style": "light"
          },
          "paper_bgcolor": "white",
          "plot_bgcolor": "#E5ECF6",
          "polar": {
           "angularaxis": {
            "gridcolor": "white",
            "linecolor": "white",
            "ticks": ""
           },
           "bgcolor": "#E5ECF6",
           "radialaxis": {
            "gridcolor": "white",
            "linecolor": "white",
            "ticks": ""
           }
          },
          "scene": {
           "xaxis": {
            "backgroundcolor": "#E5ECF6",
            "gridcolor": "white",
            "gridwidth": 2,
            "linecolor": "white",
            "showbackground": true,
            "ticks": "",
            "zerolinecolor": "white"
           },
           "yaxis": {
            "backgroundcolor": "#E5ECF6",
            "gridcolor": "white",
            "gridwidth": 2,
            "linecolor": "white",
            "showbackground": true,
            "ticks": "",
            "zerolinecolor": "white"
           },
           "zaxis": {
            "backgroundcolor": "#E5ECF6",
            "gridcolor": "white",
            "gridwidth": 2,
            "linecolor": "white",
            "showbackground": true,
            "ticks": "",
            "zerolinecolor": "white"
           }
          },
          "shapedefaults": {
           "line": {
            "color": "#2a3f5f"
           }
          },
          "ternary": {
           "aaxis": {
            "gridcolor": "white",
            "linecolor": "white",
            "ticks": ""
           },
           "baxis": {
            "gridcolor": "white",
            "linecolor": "white",
            "ticks": ""
           },
           "bgcolor": "#E5ECF6",
           "caxis": {
            "gridcolor": "white",
            "linecolor": "white",
            "ticks": ""
           }
          },
          "title": {
           "x": 0.05
          },
          "xaxis": {
           "automargin": true,
           "gridcolor": "white",
           "linecolor": "white",
           "ticks": "",
           "title": {
            "standoff": 15
           },
           "zerolinecolor": "white",
           "zerolinewidth": 2
          },
          "yaxis": {
           "automargin": true,
           "gridcolor": "white",
           "linecolor": "white",
           "ticks": "",
           "title": {
            "standoff": 15
           },
           "zerolinecolor": "white",
           "zerolinewidth": 2
          }
         }
        }
       }
      }
     },
     "metadata": {},
     "output_type": "display_data"
    }
   ],
   "source": [
    "import plotly.express as px\n",
    "import pandas as pd\n",
    "\n",
    "points_2D = [[3,5],[1,2],[3,1],[0,0],[4,2]]\n",
    "points_3D = [[3,5,2],[1,2,9],[3,1,1],[6,7,2],[4,2,3]]\n",
    "\n",
    "df = pd.DataFrame(points_2D, columns=['x','y'])\n",
    "fig = px.scatter(df, x='x', y ='y')\n",
    "fig.show()\n",
    "\n",
    "df_3 = pd.DataFrame(points_3D, columns=['x','y','z'])\n",
    "fig = px.scatter_3d(df_3, x = 'x', y = 'y', z = 'z')\n",
    "fig.show()"
   ]
  },
  {
   "cell_type": "code",
   "execution_count": 11,
   "metadata": {},
   "outputs": [
    {
     "name": "stdout",
     "output_type": "stream",
     "text": [
      "1: 1st line\n",
      "2: 2nd line\n",
      "3: 3rd line"
     ]
    }
   ],
   "source": [
    "my_file = 'hello.txt'\n",
    "\n",
    "f = open(my_file, 'r')\n",
    "lines = f.readlines()\n",
    "\n",
    "i = 0\n",
    "\n",
    "for line in lines:\n",
    "    i +=1\n",
    "    print(f'{i}: {line}', end = '')"
   ]
  },
  {
   "cell_type": "code",
   "execution_count": 1,
   "metadata": {},
   "outputs": [
    {
     "name": "stdout",
     "output_type": "stream",
     "text": [
      "[[12, 45, 34], [463, 124, 25], [235, 1, 432]]\n",
      "[91, 612, 668]\n",
      "1371\n",
      "[710, 170, 491]\n"
     ]
    }
   ],
   "source": [
    "my_file = 'number.csv'\n",
    "\n",
    "f = open(my_file, 'r')\n",
    "lines = f.readlines()\n",
    "\n",
    "a = []\n",
    "for line in lines:\n",
    "    tmp = line.replace('\\n','').split(sep=';')\n",
    "    tmp = [int(x) for x in tmp]\n",
    "    a.append(tmp)\n",
    "\n",
    "print(a)\n",
    "\n",
    "list_row = []\n",
    "list_col = [0 for i in range(len(a[0]))]\n",
    "\n",
    "for row in a:\n",
    "    list_row.append(sum(row))\n",
    "\n",
    "print(list_row)\n",
    "print(sum(list_row))\n",
    "\n",
    "for row in a:\n",
    "    for i in range(len(row)):\n",
    "        list_col[i] += row[i]\n",
    "\n",
    "print(list_col)"
   ]
  },
  {
   "cell_type": "code",
   "execution_count": 2,
   "metadata": {},
   "outputs": [
    {
     "data": {
      "text/plain": [
       "<matplotlib.image.AxesImage at 0x243d7dad490>"
      ]
     },
     "execution_count": 2,
     "metadata": {},
     "output_type": "execute_result"
    },
    {
     "data": {
      "image/png": "[encoded data removed]",
      "text/plain": [
       "<Figure size 640x480 with 1 Axes>"
      ]
     },
     "metadata": {},
     "output_type": "display_data"
    }
   ],
   "source": [
    "# Cuong Vo - 131116\n",
    "\n",
    "import operator\n",
    "import matplotlib.pyplot as plt\n",
    "from wordcloud import WordCloud, STOPWORDS\n",
    "\n",
    "def word_check(words):\n",
    "    if len(words) >= 4:\n",
    "        if (words.upper() == words) or (words.title() == words):\n",
    "            return 1\n",
    "        else: return 0\n",
    "    else: return 0\n",
    "\n",
    "file_path = 'English_text.txt'\n",
    "\n",
    "f = open(file_path, 'r')\n",
    "lines = f.readlines()\n",
    "st = ''.join(lines)\n",
    "st.replace('\\n',' ')\n",
    "\n",
    "working_str = ''\n",
    "for i in range(len(st)):\n",
    "    tmp = st[i]\n",
    "    if (tmp.isalnum() or tmp.isspace()):\n",
    "        working_str += tmp\n",
    "\n",
    "Dict_text = dict()\n",
    "\n",
    "words = working_str.split(sep = ' ')\n",
    "\n",
    "for word in words:\n",
    "    if word_check(word):\n",
    "        if word in Dict_text:\n",
    "            Dict_text[word] += 1\n",
    "        else: \n",
    "            Dict_text[word] = 1\n",
    "\n",
    "Dict_text = dict(sorted(Dict_text.items(), key= operator.itemgetter(1), reverse=True))\n",
    "\n",
    "word_list = []\n",
    "fre_list = []\n",
    "\n",
    "for i in range(min(10,len(Dict_text))):\n",
    "    word_list.append(list(Dict_text.keys())[i])\n",
    "    fre_list.append(list(Dict_text.values())[i])\n",
    "\n",
    "# ay = plt.figure(figsize = (10,5)).subplots()\n",
    "# chart = ay.barh(word_list, fre_list, color = 'red')\n",
    "# ay.invert_yaxis()\n",
    "# ay.set_xlabel('Frequency')\n",
    "# ay.set_ylabel('Word')\n",
    "# ay.set_title('Top 10 Common Words')\n",
    "\n",
    "# for p in chart:\n",
    "#     width = p.get_width()\n",
    "#     ay.annotate('{}'.format(width),\n",
    "#                 xy=(width, p.get_y() + p.get_height()),\n",
    "#                 xytext=(10,6),\n",
    "#                 textcoords=\"offset points\",\n",
    "#                 ha='center',\n",
    "#                 va = 'bottom')\n",
    "\n",
    "# plt.show()\n",
    "# plt.savefig('Top10_Word.png')\n",
    "\n",
    "stopwords = set(STOPWORDS)\n",
    "wc = WordCloud(width=800, height=800, background_color='white', stopwords=stopwords).generate(working_str)\n",
    "plt.axis('off')\n",
    "plt.imshow(wc)\n"
   ]
  },
  {
   "cell_type": "code",
   "execution_count": 11,
   "metadata": {},
   "outputs": [
    {
     "name": "stdout",
     "output_type": "stream",
     "text": [
      "[[3, 5, 2], [1, 2, 9], [3, 1, 1], [6, 7, 2], [4, 2, 3]]\n"
     ]
    }
   ],
   "source": [
    "import _pickle\n",
    "\n",
    "my_file = 'hello_out.txt'\n",
    "\n",
    "# f = open(my_file,'w')\n",
    "# f.write('1st line of output\\n')\n",
    "# f.write('2st line of output')\n",
    "# f.flush()\n",
    "# f.close()\n",
    "\n",
    "# r: read the file\n",
    "# w: write the file -- overdrive the old data\n",
    "# a: write the file -- append into old data\n",
    "\n",
    "with open(my_file,'w') as f:\n",
    "    f.write('1st line of output\\n')\n",
    "    f.write('2st line of output\\n'\n",
    ")\n",
    "\n",
    "with open(my_file,'a') as f:\n",
    "    f.write('1st line of output\\n')\n",
    "    f.write('2st line of output\\n'\n",
    ")\n",
    "\n",
    "my_file_1 = 'hello_out_1.dat'\n",
    "points_3D = [[3,5,2],[1,2,9],[3,1,1],[6,7,2],[4,2,3]]\n",
    "\n",
    "with open(my_file,'wb') as f:\n",
    "    _pickle.dump(points_3D, f)\n",
    "\n",
    "my_file_1 = 'hello_out_1.dat'\n",
    "points_3D = [[3,5,2],[1,2,9],[3,1,1],[6,7,2],[4,2,3]]\n",
    "\n",
    "with open(my_file,'rb') as f:\n",
    "    my_points = _pickle.load(f)\n",
    "    print(my_points)"
   ]
  },
  {
   "cell_type": "code",
   "execution_count": 13,
   "metadata": {},
   "outputs": [
    {
     "name": "stdout",
     "output_type": "stream",
     "text": [
      "[[3, 5, 2], [1, 2, 9], [3, 1, 1], [6, 7, 2], [4, 2, 3]]\n"
     ]
    }
   ],
   "source": [
    "import json\n",
    "\n",
    "my_file = 'hello_out.json'\n",
    "\n",
    "with open(my_file,'w') as f:\n",
    "    json.dump(points_3D,f)\n",
    "\n",
    "my_file = 'hello_out.json'\n",
    "with open(my_file,'r') as f:\n",
    "    my_points = json.load(f)\n",
    "    print(my_points)"
   ]
  },
  {
   "cell_type": "code",
   "execution_count": 17,
   "metadata": {},
   "outputs": [
    {
     "name": "stdout",
     "output_type": "stream",
     "text": [
      "myfile.txt not found !!!\n",
      "d:\\01. W 2023 2024\\Python Programming\\Python_Programming\n"
     ]
    }
   ],
   "source": [
    "my_file = 'myfile.txt'\n",
    "\n",
    "import os.path\n",
    "\n",
    "if os.path.exists(my_file):\n",
    "    print(f'{my_file} found !!!')\n",
    "    with open(my_file,'r') as f:\n",
    "        lines = f.readlines()\n",
    "        i = 0\n",
    "        for line in lines:\n",
    "            i +=1\n",
    "else: \n",
    "    print(f'{my_file} not found !!!')\n",
    "\n",
    "working_dir = os.getcwd()\n",
    "\n",
    "print(working_dir)\n"
   ]
  },
  {
   "cell_type": "code",
   "execution_count": 4,
   "metadata": {},
   "outputs": [
    {
     "name": "stdout",
     "output_type": "stream",
     "text": [
      ".git: False\n",
      ".gitignore: True\n",
      "csv_read_sum.py: True\n",
      "email_validation.py: True\n",
      "English_text.txt: True\n",
      "first_script.py: True\n",
      "hello.txt: True\n",
      "hello_out.json: True\n",
      "hello_out.txt: True\n",
      "mapreduce.py: True\n",
      "number.csv: True\n",
      "plot_2D.png: True\n",
      "prime.py: True\n",
      "Python_Programming.ipynb: True\n",
      "python_testing.py: True\n",
      "READme.md: True\n",
      "sum_element.py: True\n",
      "testing.py: True\n",
      "Top10_Word.png: True\n",
      "WordCount_all.png: True\n",
      "WordCount_Condition.png: True\n",
      "Word_Cloud.py: True\n"
     ]
    }
   ],
   "source": [
    "import os\n",
    "import shutil\n",
    "os.listdir(os.getcwd())\n",
    "\n",
    "for f in os.listdir(os.getcwd()):\n",
    "    is_file = os.path.isfile(os.path.join(os.getcwd(), f))\n",
    "    print(f'{f}: {is_file}')\n",
    "\n",
    "# os.makedirs()\n",
    "# os.remove()\n",
    "# shutil.rmtree\n",
    "\n"
   ]
  },
  {
   "cell_type": "code",
   "execution_count": 10,
   "metadata": {},
   "outputs": [
    {
     "name": "stdout",
     "output_type": "stream",
     "text": [
      "Total file size is 572.42 KB\n"
     ]
    }
   ],
   "source": [
    "import os \n",
    "\n",
    "folder = os.getcwd()\n",
    "\n",
    "size_sum = 0\n",
    "\n",
    "for f in os.listdir(folder):\n",
    "    tmp = os.path.join(folder,f)\n",
    "    if os.path.isfile(tmp):\n",
    "        size_sum += os.path.getsize(tmp)\n",
    "\n",
    "print(f'Total file size is {round(size_sum / 1024, 2)} KB')\n"
   ]
  },
  {
   "cell_type": "code",
   "execution_count": 1,
   "metadata": {},
   "outputs": [
    {
     "name": "stdout",
     "output_type": "stream",
     "text": [
      "21\n"
     ]
    }
   ],
   "source": [
    "def sum_of_bowl (n):\n",
    "    return int(n*(n+1)/2)\n",
    "    \n",
    "n = 6\n",
    "print(sum_of_bowl(n))"
   ]
  },
  {
   "cell_type": "code",
   "execution_count": 1,
   "metadata": {},
   "outputs": [
    {
     "name": "stdout",
     "output_type": "stream",
     "text": [
      "[[1, 2], [3, 4]]\n"
     ]
    }
   ],
   "source": [
    "a = [[1,2], [1,2], [3,4]]\n",
    "print(a[1:])"
   ]
  },
  {
   "cell_type": "code",
   "execution_count": 7,
   "metadata": {},
   "outputs": [
    {
     "name": "stdout",
     "output_type": "stream",
     "text": [
      "21\n"
     ]
    }
   ],
   "source": [
    "def sum_of_bowl_recursion(n):\n",
    "    if (n == 1): return 1\n",
    "    else : return n + sum_of_bowl_recursion(n-1)\n",
    "\n",
    "n = 6\n",
    "print(sum_of_bowl_recursion(n))"
   ]
  },
  {
   "cell_type": "code",
   "execution_count": 15,
   "metadata": {},
   "outputs": [
    {
     "name": "stdout",
     "output_type": "stream",
     "text": [
      "Folder size : 2611.227 KB\n"
     ]
    }
   ],
   "source": [
    "import os \n",
    "\n",
    "folder = os.getcwd()\n",
    "\n",
    "def folder_size_recursion(folder):\n",
    "    total_size = 0\n",
    "    for f in os.listdir(folder):\n",
    "        tmp = os.path.join(folder,f)\n",
    "        if os.path.isfile(tmp):\n",
    "            total_size += os.path.getsize(tmp)\n",
    "        elif os.path.isdir(tmp):\n",
    "            total_size += folder_size_recursion(tmp)\n",
    "    return total_size\n",
    "    \n",
    "print(f'Folder size : {round(folder_size_recursion(folder)/1024,3)} KB')\n",
    "    "
   ]
  },
  {
   "cell_type": "code",
   "execution_count": null,
   "metadata": {},
   "outputs": [],
   "source": []
  }
 ],
 "metadata": {
  "kernelspec": {
   "display_name": "Python 3",
   "language": "python",
   "name": "python3"
  },
  "language_info": {
   "codemirror_mode": {
    "name": "ipython",
    "version": 3
   },
   "file_extension": ".py",
   "mimetype": "text/x-python",
   "name": "python",
   "nbconvert_exporter": "python",
   "pygments_lexer": "ipython3",
   "version": "3.11.5"
  }
 },
 "nbformat": 4,
 "nbformat_minor": 2
}
